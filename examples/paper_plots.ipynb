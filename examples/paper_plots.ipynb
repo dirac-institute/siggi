{
 "cells": [
  {
   "cell_type": "markdown",
   "metadata": {},
   "source": [
    "# Plots for Siggi Paper\n",
    "\n",
    "### Simple examples of information gain"
   ]
  },
  {
   "cell_type": "code",
   "execution_count": null,
   "metadata": {},
   "outputs": [],
   "source": [
    "# First import code\n",
    "import sys\n",
    "sys.path.append('..')"
   ]
  },
  {
   "cell_type": "code",
   "execution_count": null,
   "metadata": {},
   "outputs": [],
   "source": [
    "from siggi import siggi, filters, spectra, calcIG, plotting\n",
    "from siggi import Sed\n",
    "from siggi.lsst_utils import Bandpass, BandpassDict\n",
    "import matplotlib.pyplot as plt\n",
    "import numpy as np\n",
    "%load_ext autoreload\n",
    "%autoreload 2\n",
    "%matplotlib inline"
   ]
  },
  {
   "cell_type": "markdown",
   "metadata": {},
   "source": [
    "### Set up red and blue spectra"
   ]
  },
  {
   "cell_type": "code",
   "execution_count": null,
   "metadata": {},
   "outputs": [],
   "source": [
    "f = filters()\n",
    "s = spectra()\n",
    "red_spec = s.get_red_spectrum()\n",
    "blue_spec = s.get_blue_spectrum()"
   ]
  },
  {
   "cell_type": "code",
   "execution_count": null,
   "metadata": {},
   "outputs": [],
   "source": [
    "def flat_prior_2(z):\n",
    "    return 0.5"
   ]
  },
  {
   "cell_type": "code",
   "execution_count": null,
   "metadata": {},
   "outputs": [],
   "source": [
    "sig_example = siggi([red_spec, blue_spec], [0.5, 0.5], flat_prior_2,\n",
    "                    z_min=0.0, z_max=0.0, z_steps=1)"
   ]
  },
  {
   "cell_type": "code",
   "execution_count": null,
   "metadata": {},
   "outputs": [],
   "source": [
    "d_lambda = 25.\n",
    "x = np.arange(375., 1026., d_lambda)\n",
    "point_list = []\n",
    "for val_1 in x:\n",
    "    for val_2 in x:\n",
    "        point_list.append([val_1, val_2])\n",
    "y = np.arange(387.5, 1026., d_lambda)\n",
    "for val_1 in y:\n",
    "    point_list.append([val_1, val_1])"
   ]
  },
  {
   "cell_type": "code",
   "execution_count": null,
   "metadata": {},
   "outputs": [],
   "source": [
    "%%time\n",
    "test_rand_state = np.random.RandomState(42)\n",
    "num_filters = 2\n",
    "set_ratio = 0.5\n",
    "res = sig_example.optimize_filters(num_filters=num_filters,\n",
    "                                   filt_min=300., filt_max=1100.,\n",
    "                                   sed_mags=22.0,\n",
    "                                   set_ratio=set_ratio,\n",
    "                                   system_wavelen_max=1200.,\n",
    "                                   n_opt_points=15,\n",
    "                                   optimizer_verbosity=5,\n",
    "                                   procs=4, acq_func_kwargs_dict={'kappa':1.8},\n",
    "                                   frozen_filt_dict = None,\n",
    "                                   starting_points = [[mid-60., mid+60., mid_2-60., mid_2+60.] for mid, mid_2 in point_list],\n",
    "                                   rand_state=test_rand_state)"
   ]
  },
  {
   "cell_type": "markdown",
   "metadata": {},
   "source": [
    "##### Providing a random seed introduces reproducibility as long as the same number of processors are used in parallelization."
   ]
  },
  {
   "cell_type": "code",
   "execution_count": null,
   "metadata": {},
   "outputs": [],
   "source": [
    "%%time\n",
    "test_rand_state = np.random.RandomState(42)\n",
    "num_filters = 2\n",
    "set_ratio = 0.5\n",
    "res = sig_example.optimize_filters(num_filters=num_filters,\n",
    "                                   filt_min=300., filt_max=1100.,\n",
    "                                   sed_mags=22.0,\n",
    "                                   set_ratio=set_ratio,\n",
    "                                   system_wavelen_max=1200.,\n",
    "                                   n_opt_points=15,\n",
    "                                   optimizer_verbosity=5,\n",
    "                                   procs=4, acq_func_kwargs_dict={'kappa':1.8},\n",
    "                                   frozen_filt_dict = None,\n",
    "                                   starting_points = [[mid-60., mid+60., mid_2-60., mid_2+60.] for mid, mid_2 in point_list],\n",
    "                                   rand_state=test_rand_state)"
   ]
  },
  {
   "cell_type": "markdown",
   "metadata": {},
   "source": [
    "### Make plots"
   ]
  },
  {
   "cell_type": "code",
   "execution_count": null,
   "metadata": {},
   "outputs": [],
   "source": [
    "min_idx = np.argmin(res.yi)\n",
    "\n",
    "best_pt = res.Xi[min_idx]"
   ]
  },
  {
   "cell_type": "code",
   "execution_count": null,
   "metadata": {},
   "outputs": [],
   "source": [
    "best_val = np.min(res.yi)"
   ]
  },
  {
   "cell_type": "code",
   "execution_count": null,
   "metadata": {},
   "outputs": [],
   "source": [
    "print(best_pt, best_val)"
   ]
  },
  {
   "cell_type": "code",
   "execution_count": null,
   "metadata": {},
   "outputs": [],
   "source": [
    "# Uncomment if red and blue filters are on wrong sides\n",
    "# best_pt = [best_pt[2], best_pt[3], best_pt[0], best_pt[1]]"
   ]
  },
  {
   "cell_type": "code",
   "execution_count": null,
   "metadata": {},
   "outputs": [],
   "source": [
    "sig_plot = plotting([red_spec, blue_spec], best_pt,\n",
    "                    frozen_filt_dict=None, set_ratio=0.5,\n",
    "                    sed_mags=22.0)"
   ]
  },
  {
   "cell_type": "code",
   "execution_count": null,
   "metadata": {},
   "outputs": [],
   "source": [
    "fig = plt.figure(figsize=(14, 18))\n",
    "fig.add_subplot(2,1,1)\n",
    "sig_plot.plot_filters(fig=fig)\n",
    "ax = plt.gca()\n",
    "ax.lines[0].set_color('r')\n",
    "ax.lines[1].set_color('b')\n",
    "plt.xlabel('Wavelength (nm)', size=20)\n",
    "plt.ylabel('Transmission Fraction', size=20)\n",
    "plt.legend(('Red Spectrum', 'Blue Spectrum', 'Filter 1', 'Filter 2'), loc=1)\n",
    "fig.add_subplot(2,1,2)\n",
    "plt.rcParams.update({'font.size': 16})\n",
    "sig_plot.plot_ig_space(res.Xi[:-3], np.abs(res.yi[:-3]), [0,1])\n",
    "cbar = plt.colorbar()\n",
    "cbar.set_label('Information Gain (bits)')\n",
    "plt.scatter(best_pt[0]+50., best_pt[2]+50., c='r', s=64)\n",
    "plt.xlabel('Filter 1 Center Wavelength (nm)', size=20)\n",
    "plt.ylabel('Filter 2 Center Wavelength (nm)', size=20)\n",
    "#plt.savefig('Example_1.pdf')"
   ]
  },
  {
   "cell_type": "code",
   "execution_count": null,
   "metadata": {},
   "outputs": [],
   "source": [
    "fig = plt.figure(figsize=(20,16))\n",
    "fig = sig_plot.plot_color_color(['filter_0', 'filter_1', 'filter_0', 'filter_1'],\n",
    "                                np.linspace(0.00, 0.0), fig=fig)"
   ]
  },
  {
   "cell_type": "code",
   "execution_count": null,
   "metadata": {},
   "outputs": [],
   "source": [
    "sig_plot.filter_dict.magListForSed(blue_spec), sig_plot.filter_dict.magListForSed(red_spec)"
   ]
  },
  {
   "cell_type": "markdown",
   "metadata": {},
   "source": [
    "### Make sigmoid filter plot"
   ]
  },
  {
   "cell_type": "code",
   "execution_count": null,
   "metadata": {},
   "outputs": [],
   "source": [
    "sig_spec = s.get_sigmoid_spectrum()"
   ]
  },
  {
   "cell_type": "code",
   "execution_count": null,
   "metadata": {},
   "outputs": [],
   "source": [
    "sig_spec.wavelen[np.where(sig_spec.flambda < 0.01)] = 0.01"
   ]
  },
  {
   "cell_type": "code",
   "execution_count": null,
   "metadata": {},
   "outputs": [],
   "source": [
    "def prior_z(z, z0=0.5):\n",
    "    return (z**2.)*np.exp(-(z/z0)**1.5)/(np.sum((np.arange(0, 2.51, .05)**2.)*np.exp(-(np.arange(0, 2.51, .05)/z0)**1.5)))"
   ]
  },
  {
   "cell_type": "code",
   "execution_count": null,
   "metadata": {},
   "outputs": [],
   "source": [
    "plt.plot(np.arange(0.00, 2.51, 0.05), prior_z(np.arange(0.00, 2.51, 0.05)))\n",
    "plt.xlabel('Redshift')\n",
    "plt.ylabel('Prior Probability')"
   ]
  },
  {
   "cell_type": "code",
   "execution_count": null,
   "metadata": {},
   "outputs": [],
   "source": [
    "plt.plot(sig_spec.wavelen, sig_spec.flambda)\n",
    "plt.xlim(200, 500)"
   ]
  },
  {
   "cell_type": "code",
   "execution_count": null,
   "metadata": {},
   "outputs": [],
   "source": [
    "x = np.arange(400., 1001., 25.)\n",
    "point_list = []\n",
    "for val_1 in x:\n",
    "    for val_2 in x:\n",
    "        point_list.append([val_1, val_2])\n",
    "y = np.arange(412.5, 1001., 25.)\n",
    "for val_1 in y:\n",
    "    point_list.append([val_1, val_1])"
   ]
  },
  {
   "cell_type": "code",
   "execution_count": null,
   "metadata": {},
   "outputs": [],
   "source": [
    "ref_filter = Bandpass()\n",
    "ref_filter.imsimBandpass()"
   ]
  },
  {
   "cell_type": "code",
   "execution_count": null,
   "metadata": {},
   "outputs": [],
   "source": [
    "sig_example = siggi([sig_spec], [1.0], prior_z,# calib_filter=ref_filter,\n",
    "                    z_min=0.05, z_max=2.5, z_steps=50)"
   ]
  },
  {
   "cell_type": "code",
   "execution_count": null,
   "metadata": {},
   "outputs": [],
   "source": [
    "%%time\n",
    "test_rand_state = np.random.RandomState(2325)\n",
    "num_filters = 2\n",
    "set_ratio = 0.5\n",
    "res_2 = sig_example.optimize_filters(num_filters=num_filters,\n",
    "                                     filt_min=300., filt_max=1100.,\n",
    "                                     sed_mags=22.0,\n",
    "                                     set_ratio=set_ratio,\n",
    "                                     system_wavelen_max=1200.,\n",
    "                                     n_opt_points=15,\n",
    "                                     optimizer_verbosity=5,\n",
    "                                     procs=16, acq_func_kwargs_dict={'kappa':1.8},\n",
    "                                     frozen_filt_dict = None,\n",
    "                                     starting_points = [[mid-50., mid+50., mid_2-50., mid_2+50.] for mid, mid_2 in point_list],\n",
    "                                     rand_state=test_rand_state)"
   ]
  },
  {
   "cell_type": "code",
   "execution_count": null,
   "metadata": {},
   "outputs": [],
   "source": [
    "min_idx = np.argmin(res_2.yi)\n",
    "best_pt = res_2.Xi[min_idx]\n",
    "print(best_pt)"
   ]
  },
  {
   "cell_type": "code",
   "execution_count": null,
   "metadata": {},
   "outputs": [],
   "source": [
    "# Uncomment if redder filter is first\n",
    "best_pt = [best_pt[2], best_pt[3], best_pt[0], best_pt[1]]"
   ]
  },
  {
   "cell_type": "code",
   "execution_count": null,
   "metadata": {},
   "outputs": [],
   "source": [
    "sig_spec.redshiftSED(0.6)\n",
    "sig_plot = plotting([sig_spec], best_pt,\n",
    "                    frozen_filt_dict=None, set_ratio=0.5,\n",
    "                    sed_mags=22.0)"
   ]
  },
  {
   "cell_type": "code",
   "execution_count": null,
   "metadata": {},
   "outputs": [],
   "source": [
    "fig = plt.figure(figsize=(14, 18))\n",
    "fig.add_subplot(2,1,1)\n",
    "sig_plot.plot_filters(fig=fig)\n",
    "ax = plt.gca()\n",
    "plt.xlabel('Wavelength (nm)', size=20)\n",
    "plt.ylabel('Transmission Fraction', size=20)\n",
    "plt.legend(('Sigmoid Spectrum (z=0.6)', 'Filter 1', 'Filter 2'), loc=2, fontsize=15)\n",
    "fig.add_subplot(2,1,2)\n",
    "plt.rcParams.update({'font.size': 16})\n",
    "sig_plot.plot_ig_space(res_2.Xi, np.abs(res_2.yi), [0,1])\n",
    "cbar = plt.colorbar()\n",
    "cbar.set_label('Information Gain (bits)')\n",
    "plt.scatter(best_pt[0]+50., best_pt[2]+50., c='r', s=64)\n",
    "plt.xlabel('Filter 1 Center Wavelength (nm)', size=20)\n",
    "plt.ylabel('Filter 2 Center Wavelength (nm)', size=20)\n",
    "plt.savefig('Example_2.pdf')"
   ]
  },
  {
   "cell_type": "code",
   "execution_count": null,
   "metadata": {},
   "outputs": [],
   "source": [
    "from copy import deepcopy\n",
    "shift_seds = []\n",
    "\n",
    "sig_spec = s.get_sigmoid_spectrum()\n",
    "sig_spec.flambda[np.where(sig_spec.flambda < 0.01)] = 0.01\n",
    "\n",
    "#best_pt = [350., 450., 400., 500.]\n",
    "#best_pt = [800., 900., 900., 1000.]\n",
    "#best_pt = [600.0, 700.0, 825.0, 925.0]\n",
    "\n",
    "sig_plot = plotting([sig_spec], best_pt,\n",
    "                    frozen_filt_dict=None, set_ratio=0.5,\n",
    "                    sed_mags=22.0)\n",
    "\n",
    "for sed_obj in [sig_spec]:\n",
    "    for z_val in np.linspace(0.05, 2.5, 50):\n",
    "        sed_copy = deepcopy(sed_obj)\n",
    "        sed_copy.redshiftSED(z_val)\n",
    "        shift_seds.append(sed_copy)\n",
    "\n",
    "calc_ig = calcIG(sig_plot.filter_dict, shift_seds,\n",
    "                         np.ones(len(shift_seds)),\n",
    "                         sky_mag=19.0, sed_mags=22.0)\n",
    "col_x, err_x = calc_ig.calc_colors()\n"
   ]
  },
  {
   "cell_type": "code",
   "execution_count": null,
   "metadata": {},
   "outputs": [],
   "source": [
    "fig = plt.figure(figsize=(12,12))\n",
    "plt.plot(np.linspace(0.05, 2.5, 50), col_x)\n",
    "plt.errorbar(np.linspace(0.05, 2.5, 50), col_x, yerr=err_x**.5, ls='', marker='o', color='k')\n",
    "plt.xlabel('Redshift')\n",
    "plt.ylabel(r'Color ($F_2$ - $F_{1}$)')"
   ]
  },
  {
   "cell_type": "code",
   "execution_count": null,
   "metadata": {},
   "outputs": [],
   "source": [
    "fig = plt.figure(figsize=(20,16))\n",
    "fig = sig_plot.plot_color_color(['filter_0', 'filter_1', 'filter_0', 'filter_1'],\n",
    "                                np.linspace(0.05, 2.5, 50), fig=fig)"
   ]
  },
  {
   "cell_type": "code",
   "execution_count": null,
   "metadata": {},
   "outputs": [],
   "source": []
  },
  {
   "cell_type": "code",
   "execution_count": null,
   "metadata": {},
   "outputs": [],
   "source": [
    "blue_spec = s.get_blue_spectrum()"
   ]
  },
  {
   "cell_type": "code",
   "execution_count": null,
   "metadata": {},
   "outputs": [],
   "source": [
    "x = np.arange(400., 1001., 25.)\n",
    "point_list = []\n",
    "for val_1 in x:\n",
    "    for val_2 in x:\n",
    "        point_list.append([val_1, val_2])\n",
    "y = np.arange(412.5, 1001., 25.)\n",
    "for val_1 in y:\n",
    "    point_list.append([val_1, val_1])"
   ]
  },
  {
   "cell_type": "code",
   "execution_count": null,
   "metadata": {},
   "outputs": [],
   "source": [
    "sig_example = siggi([blue_spec], [1.0], prior_z,\n",
    "                    z_min=0.05, z_max=2.5, z_steps=50)"
   ]
  },
  {
   "cell_type": "code",
   "execution_count": null,
   "metadata": {},
   "outputs": [],
   "source": [
    "%%time\n",
    "test_rand_state = np.random.RandomState(864)\n",
    "num_filters = 2\n",
    "set_ratio = 0.5\n",
    "res_3 = sig_example.optimize_filters(num_filters=num_filters,\n",
    "                                     filt_min=300., filt_max=1100.,\n",
    "                                     sed_mags=22.0,\n",
    "                                     set_ratio=set_ratio,\n",
    "                                     system_wavelen_max=1200.,\n",
    "                                     n_opt_points=15,\n",
    "                                     optimizer_verbosity=5,\n",
    "                                     procs=16, acq_func_kwargs_dict={'kappa':1.8},\n",
    "                                     frozen_filt_dict = None,\n",
    "                                     starting_points = [[mid-50., mid+50., mid_2-50., mid_2+50.] for mid, mid_2 in point_list],\n",
    "                                     rand_state=test_rand_state)"
   ]
  },
  {
   "cell_type": "code",
   "execution_count": null,
   "metadata": {},
   "outputs": [],
   "source": [
    "min_idx = np.argmin(res_3.yi)\n",
    "best_pt = res_3.Xi[min_idx]\n",
    "print(best_pt)"
   ]
  },
  {
   "cell_type": "code",
   "execution_count": null,
   "metadata": {},
   "outputs": [],
   "source": [
    "# Uncomment if blue and red filters are reversed\n",
    "# best_pt = [best_pt[2], best_pt[3], best_pt[0], best_pt[1]]"
   ]
  },
  {
   "cell_type": "code",
   "execution_count": null,
   "metadata": {},
   "outputs": [],
   "source": [
    "blue_spec.redshiftSED(0.6)\n",
    "sig_plot = plotting([blue_spec], best_pt,\n",
    "                    frozen_filt_dict=None, set_ratio=0.5,\n",
    "                    sed_mags=22.0)"
   ]
  },
  {
   "cell_type": "code",
   "execution_count": null,
   "metadata": {},
   "outputs": [],
   "source": [
    "fig = plt.figure(figsize=(14, 18))\n",
    "fig.add_subplot(2,1,1)\n",
    "sig_plot.plot_filters(fig=fig)\n",
    "ax = plt.gca()\n",
    "plt.xlabel('Wavelength (nm)', size=20)\n",
    "plt.ylabel('Transmission Fraction', size=20)\n",
    "plt.legend(('Test Spectrum', 'Filter 1', 'Filter 2'), loc=1)\n",
    "fig.add_subplot(2,1,2)\n",
    "plt.rcParams.update({'font.size': 16})\n",
    "sig_plot.plot_ig_space(res_3.Xi, np.abs(res_3.yi), [0,1])\n",
    "cbar = plt.colorbar()\n",
    "cbar.set_label('Information Gain (bits)')\n",
    "plt.scatter(best_pt[0]+50., best_pt[2]+50., c='r', s=64)\n",
    "plt.xlabel('Filter 1 Center Wavelength (nm)', size=20)\n",
    "plt.ylabel('Filter 2 Center Wavelength (nm)', size=20)\n",
    "plt.savefig('Example_3.pdf')"
   ]
  },
  {
   "cell_type": "code",
   "execution_count": null,
   "metadata": {},
   "outputs": [],
   "source": [
    "fig = plt.figure(figsize=(20,16))\n",
    "fig = sig_plot.plot_color_color(['filter_0', 'filter_1', 'filter_0', 'filter_1'],\n",
    "                                np.linspace(0.05, 2.5, 50), fig=fig)"
   ]
  },
  {
   "cell_type": "code",
   "execution_count": null,
   "metadata": {},
   "outputs": [],
   "source": []
  }
 ],
 "metadata": {
  "kernelspec": {
   "display_name": "Python 3",
   "language": "python",
   "name": "python3"
  },
  "language_info": {
   "codemirror_mode": {
    "name": "ipython",
    "version": 3
   },
   "file_extension": ".py",
   "mimetype": "text/x-python",
   "name": "python",
   "nbconvert_exporter": "python",
   "pygments_lexer": "ipython3",
   "version": "3.6.4"
  }
 },
 "nbformat": 4,
 "nbformat_minor": 2
}
